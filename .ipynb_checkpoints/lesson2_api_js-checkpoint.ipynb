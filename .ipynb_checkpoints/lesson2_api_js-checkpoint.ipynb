{
 "cells": [
  {
   "cell_type": "markdown",
   "metadata": {},
   "source": [
    "# MASHUP\n",
    "<a name=\"top\"></a>"
   ]
  },
  {
   "cell_type": "markdown",
   "metadata": {},
   "source": [
    "---\n",
    "<a name=\"TinyDB0\"></a>\n",
    "## Mashup とは\n",
    "\n",
    "マッシュアップ（Mashup）とは、ウェブ上に公開されている情報を加工、編集することで新たなサービスとすること。\n",
    "\n",
    "マッシュアップの語源は異なる音源からトラックの一部をそれぞれ取り出してミックスし、一つの曲にする音楽の手法である。ウェブにおけるマッシュアップも同様に複数の情報源からの情報から関連のあるものだけを取り出して加工し、一つのウェブサービスとして仕立てあげる。マッシュアップが注目されるようになったのはさまざまな企業や団体が所有するデータベースを公開するWebAPIを整備するようになったためである。これにより情報技術に対する深い造詣がなくとも新たなサービスを立ち上げることができるようになった。\n",
    "\n",
    "Wikipedia より\n",
    "\n",
    "### データの取得方法\n",
    "- ★      API を使用する（お天気情報, 株価情報）  ※RESTFul（GET）でJSONを取得できる\n",
    "- ★★    認証が必要なAPI を使用する（Twitter） \n",
    "- ★★    配布されているデータセットを使用する  （Wikipedia）\n",
    "- ★★★★    Web ページから取得する （クローリング,スクレーピング）\n"
   ]
  },
  {
   "cell_type": "markdown",
   "metadata": {},
   "source": [
    "---\n",
    "## APIを使用した Mashup\n",
    "### 一般的なAPIへのアクセス方法\n",
    "\n",
    "1. GET(RestFul)を使用して、サーバに情報を送る\n",
    "2. 返却されたJSONを読み込む\n",
    "\n",
    "※ 企業によってAPIの仕様が違うので、各々のサービスの仕様書を見る。\n",
    "\n",
    "※ 「●●なデータ使ってみたいのですが〜」と講師/TAに、まず相談する。\n",
    "\n",
    "### 事例リスト\n",
    "\n",
    "Mashup Award の作品\n",
    "https://hacklog.jp/works?order=&status=&award_id=13\n",
    "\n",
    "### APIの一覧\n",
    "\n",
    "Hacklog\n",
    "https://hacklog.jp/apis?order=category"
   ]
  },
  {
   "cell_type": "markdown",
   "metadata": {},
   "source": [
    "---\n",
    "\n",
    "## 使い方\n",
    "\n",
    "図書館APIをつかってみる\n",
    "https://hacklog.jp/apis/213\n",
    "\n",
    "- アプリケーションキーを取得する\n",
    "- 1日の呼び出し回数の制限がある\n",
    "- JSONで情報がかえってくる\n",
    "\n",
    "### GETでのサーバへのデータの送信方法\n",
    "\n",
    "指定した条件で図書館の一覧を取得します。緯度経度を指定した場合は、その地点から近い図書館を順に出力します。\n",
    "\n",
    "アドレス：http://api.calil.jp/library (https://api.calil.jp/library) \n",
    "パラメータ： 図書館APIサイトを参照\n",
    "\n",
    "- appkey\t(必須) :\tアプリケーションキーを指定します。\n",
    "- pref\t(任意) :\t都道府県を指定します。例「青森県」\n",
    "- geocode\t(任意):\t緯度、経度を指定します。例「136.7163027,35.390516」\n",
    "- format\t(任意) :\t出力形式を指定します。xmlまたはjsonです。デフォルトはxml\n",
    "- limit\t(任意) :\t図書館の取得件数を指定します。\n",
    "\n",
    "実行例：\n",
    "\n",
    "http://api.calil.jp/library?appkey={あなたのアプリキー}&pref=埼玉県\n",
    "\n",
    "http://api.calil.jp/library?appkey={あなたのアプリキー}&geocode=136.7163027,35.390516&limit=10\n"
   ]
  },
  {
   "cell_type": "code",
   "execution_count": 98,
   "metadata": {},
   "outputs": [
    {
     "name": "stdout",
     "output_type": "stream",
     "text": [
      "青森市中央市民センター図書室\n",
      "http://www.city.aomori.aomori.jp/chuo-center/kodomo-kyouiku/shimin-center/kouminkan/06.html\n",
      "青森市北部地区農村環境改善センター（北部市民センター）図書室\n",
      "http://www.city.aomori.aomori.jp/chuo-center/kodomo-kyouiku/shimin-center/kouminkan/02.html\n",
      "青森市古川市民センター図書室\n",
      "http://www.city.aomori.aomori.jp/chuo-center/kodomo-kyouiku/shimin-center/kouminkan/05.html\n",
      "青森市大野市民センター図書室\n",
      "http://www.city.aomori.aomori.jp/chuo-center/kodomo-kyouiku/shimin-center/kouminkan/10.html\n",
      "青森市戸山市民センター図書室\n",
      "http://www.city.aomori.aomori.jp/chuo-center/kodomo-kyouiku/shimin-center/kouminkan/03.html\n",
      "青森市民図書館\n",
      "http://www.library.city.aomori.aomori.jp/new-hp/enter/enter.html\n",
      "青森市東部市民センター図書室\n",
      "http://www.city.aomori.aomori.jp/chuo-center/kodomo-kyouiku/shimin-center/kouminkan/09.html\n",
      "青森市横内市民センター図書室\n",
      "http://www.city.aomori.aomori.jp/view.rbz?cd=1816\n",
      "青森市沖館市民センター図書室\n",
      "http://www.city.aomori.aomori.jp/chuo-center/kodomo-kyouiku/shimin-center/kouminkan/04.html\n",
      "青森市油川市民センター図書室\n",
      "http://www.city.aomori.aomori.jp/chuo-center/kodomo-kyouiku/shimin-center/kouminkan/11.html\n"
     ]
    }
   ],
   "source": [
    "# webAPIからJSONの形式の文字列の結果をもらう\n",
    "\n",
    "import urllib.parse\n",
    "import urllib.request\n",
    "import json\n",
    "import sys\n",
    "import codecs\n",
    "\n",
    "# URIスキーム\n",
    "url = 'http://api.calil.jp/library?'\n",
    "\n",
    "# URIパラメータのデータ \n",
    "# appkeyは個々人で取得してください\n",
    "param = {\n",
    "    'appkey': 'f4ee81b8aadbbe222dea2431bd2dbc5a',    \n",
    "    'pref': '青森県',\n",
    "    'format': 'json',\n",
    "    'limit': 10,\n",
    "    'callback': 'no'\n",
    "}\n",
    "\n",
    "# URIパラメータの文字列の作成\n",
    "#  Getリクエストの形式に整形  (pref=青森県&limit=10&appley=f4ee81b8aadbbe222dea2431bd2dbc5a)\n",
    "paramStr = urllib.parse.urlencode(param)  \n",
    "# print(paramStr)\n",
    "\n",
    "# 読み込むオブジェクトの作成\n",
    "readObj = urllib.request.urlopen(url + paramStr)\n",
    "\n",
    "# webAPIからのJSONを取得\n",
    "res = readObj.read().decode()[:-2]\n",
    "# print(res)\n",
    "\n",
    " # webAPIから取得したJSONデータをpythonで使える形に変換する\n",
    "data = json.loads(res)\n",
    "# print(data[0])\n",
    "\n",
    "for i in range(len(data)):\n",
    "    print(data[i]['formal'])\n",
    "    print(data[i]['url_pc'])\n",
    "    i +=1"
   ]
  }
 ],
 "metadata": {
  "kernelspec": {
   "display_name": "Javascript (Node.js)",
   "language": "javascript",
   "name": "javascript"
  },
  "language_info": {
   "file_extension": ".js",
   "mimetype": "application/javascript",
   "name": "javascript",
   "version": "6.11.2"
  }
 },
 "nbformat": 4,
 "nbformat_minor": 2
}
